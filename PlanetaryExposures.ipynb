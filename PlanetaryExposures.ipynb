{
 "cells": [
  {
   "cell_type": "code",
   "execution_count": 48,
   "metadata": {},
   "outputs": [],
   "source": [
    "import math\n",
    "\n",
    "def Resolution(aperture_inches):\n",
    "    # convert from inches to nanometers\n",
    "    #aperture_nm = aperture_inches * .0254 * 1e9\n",
    "    # return resolution in arc seconds\n",
    "    #return math.degrees(1.22 * 550 / aperture_nm) * 3600\n",
    "    # We can just pre-calculate the Rayleigh criterion factor:\n",
    "    return 5.45 / aperture_inches\n",
    "\n",
    "def ChordFromAngle(theta, r):\n",
    "    # return the chord distance (in units of radius r) for a given angle theta in radians.\n",
    "    return 2*math.sin(theta/2) * r\n",
    "\n",
    "def AngularSpeed(rotation_time):\n",
    "    # return the angular speed of an object based on the units of the rotation_time argument\n",
    "    return 2*math.pi / rotation_time\n",
    "\n",
    "def AngularSize(true_size, distance):\n",
    "    # return the angular size of an object in arc seconds\n",
    "    # (assume the small angle approximation holds)\n",
    "    return math.degrees(true_size / distance) * 3600"
   ]
  },
  {
   "cell_type": "code",
   "execution_count": 49,
   "metadata": {},
   "outputs": [],
   "source": [
    "## Values from wikipedia\n",
    "\n",
    "jupiter_aphelion = 816363000 #km\n",
    "jupiter_perihelion = 740595000 #km\n",
    "jupiter_radius = 71492 #km (equatorial)\n",
    "jupiter_rotation = 9.9250 #hours\n",
    "\n",
    "earth_aphelion = 152097597 #km\n",
    "earth_perihelion = 147098450 #km"
   ]
  },
  {
   "cell_type": "code",
   "execution_count": 50,
   "metadata": {},
   "outputs": [
    {
     "name": "stdout",
     "output_type": "stream",
     "text": [
      "Jupiter rotates at 0.01055 radians per minute\n",
      "So in one minute, a point near Jupiter's meridian will travel a projected (chord) distance of 754.31637 km\n",
      "When Jupiter is at perihelion and Earth is at aphelion (closest separation), this corresponds to an angular size of 0.26 arc seconds\n",
      "When Jupiter is at aphelion and Earth is at perihelion (furthest separation), this corresponds to an angular size of 0.23 arc seconds\n",
      "After 2 minutes, these angular sizes become 0.53 and 0.46 arc seconds, respectively.\n",
      "After 3 minutes, these angular sizes become 0.79 and 0.70 arc seconds, respectively.\n",
      "\n",
      "Consider the angular resolutions of some common medium to large telescopes:\n",
      "8\": 0.68 arc seconds\n",
      "11\": 0.50 arc seconds\n",
      "14\": 0.39 arc seconds\n",
      "16\": 0.34 arc seconds\n",
      "\n",
      "So for an 8\" telescope, a maximum total exposure of 3 min on Jupiter is appropriate, even in excellent seeing with a diffraction-limited setup.\n",
      "For an 11\" scope, 3 minutes may be acceptable in average seeing conditions, but 2 minutes will be more appropriate for exceptional seeing and a diffraction-limited setup.\n",
      "The case of a 14\" scope is probably similar to an 11\", but could benefit from 1 min total exposure time in exceptional seeing conditions.\n",
      "By 16\", 1 min total exposure time is probably best, even in less-than-ideal seeing conditions.\n"
     ]
    }
   ],
   "source": [
    "jupiter_angular_speed = AngularSpeed(jupiter_rotation * 60)\n",
    "# angular speed is implicitly multiplied by 1 min to get an angle rather than a speed\n",
    "jupiter_chordper1min = ChordFromAngle(jupiter_angular_speed, jupiter_radius) \n",
    "rotation_angular_size_per = AngularSize(jupiter_chordper1min, jupiter_perihelion - earth_aphelion)\n",
    "rotation_angular_size_ap = AngularSize(jupiter_chordper1min, jupiter_aphelion - earth_perihelion)\n",
    "\n",
    "print(\"Jupiter rotates at \" + \"{:.5f}\".format(jupiter_angular_speed) + \" radians per minute\")\n",
    "print(\"So in one minute, a point near Jupiter's meridian will travel a projected (chord) distance of \" + \"{:.5f}\".format(jupiter_chordper1min) + \" km\")\n",
    "print(\"When Jupiter is at perihelion and Earth is at aphelion (closest separation), this corresponds to an angular size of \" + \\\n",
    "      \"{:.2f}\".format(rotation_angular_size_per) + \" arc seconds\")\n",
    "print(\"When Jupiter is at aphelion and Earth is at perihelion (furthest separation), this corresponds to an angular size of \" + \\\n",
    "      \"{:.2f}\".format(rotation_angular_size_ap) + \" arc seconds\")\n",
    "\n",
    "jupiter_chordper2min = ChordFromAngle(2 * AngularSpeed(jupiter_rotation * 60), jupiter_radius)\n",
    "rotation_2min_per = AngularSize(jupiter_chordper2min,  jupiter_perihelion - earth_aphelion)\n",
    "rotation_2min_ap = AngularSize(jupiter_chordper2min, jupiter_aphelion - earth_perihelion)\n",
    "\n",
    "print(\"After 2 minutes, these angular sizes become \" + \"{:.2f}\".format(rotation_2min_per) + \" and \" + \"{:.2f}\".format(rotation_2min_ap) + \" arc seconds, respectively.\")\n",
    "\n",
    "jupiter_chordper3min = ChordFromAngle(3 * AngularSpeed(jupiter_rotation * 60), jupiter_radius)\n",
    "rotation_3min_per = AngularSize(jupiter_chordper3min,  jupiter_perihelion - earth_aphelion)\n",
    "rotation_3min_ap = AngularSize(jupiter_chordper3min, jupiter_aphelion - earth_perihelion)\n",
    "\n",
    "print(\"After 3 minutes, these angular sizes become \" + \"{:.2f}\".format(rotation_3min_per) + \" and \" + \"{:.2f}\".format(rotation_3min_ap) + \" arc seconds, respectively.\")\n",
    "\n",
    "print(\"\\nConsider the angular resolutions of some common medium to large telescopes:\")\n",
    "print(\"8\\\": \" + \"{:.2f}\".format(Resolution(8)) + \" arc seconds\")\n",
    "print(\"11\\\": \" + \"{:.2f}\".format(Resolution(11)) + \" arc seconds\")\n",
    "print(\"14\\\": \" + \"{:.2f}\".format(Resolution(14)) + \" arc seconds\")\n",
    "print(\"16\\\": \" + \"{:.2f}\".format(Resolution(16)) + \" arc seconds\")\n",
    "\n",
    "print(\"\\nSo for an 8\\\" telescope, a maximum total exposure of 3 min on Jupiter is appropriate, even in excellent seeing with a diffraction-limited setup.\")\n",
    "print(\"For an 11\\\" scope, 3 minutes may be acceptable in average seeing conditions, but 2 minutes will be more appropriate for exceptional seeing and a diffraction-limited setup.\")\n",
    "print(\"The case of a 14\\\" scope is probably similar to an 11\\\", but could benefit from 1 min total exposure time in exceptional seeing conditions.\")\n",
    "print(\"By 16\\\", 1 min total exposure time is probably best, even in less-than-ideal seeing conditions.\")"
   ]
  },
  {
   "cell_type": "code",
   "execution_count": 51,
   "metadata": {},
   "outputs": [
    {
     "name": "stdout",
     "output_type": "stream",
     "text": [
      "2.748602310748697\n",
      "2.0209985769455794\n",
      "1.5763671941802002\n",
      "1.3742650345494425\n",
      "0.5287593613187807\n",
      "0.4649484437029289\n"
     ]
    }
   ],
   "source": [
    "# We can also reverse the above calculations to compute an \"ideal\" total exposure time\n",
    "# for a given resolution.\n",
    "# NOTE: This is really the \"ideal\" maximum exposure time. Under ideal conditions, the motion blur\n",
    "# from this total exposure would be just resolvable by the corresponding aperture.\n",
    "# In such ideal conditions, it may be beneficial to cut this maximum time in half.\n",
    "# In practice, however, conditions will seldom be ideal enough for motion blur at this computed\n",
    "# time (or even slightly longer) to be noticeable.\n",
    "def IdealExposure(angular_size):\n",
    "    # Use an average distance between Earth and Jupiter\n",
    "    d = ((jupiter_aphelion - earth_perihelion) + (jupiter_perihelion - earth_aphelion)) / 2\n",
    "    # Assume the small angle approximation holds\n",
    "    true_size = math.radians(angular_size / 3600) * d\n",
    "    # convert the chord into the angle Jupiter rotated by\n",
    "    angle = 2*math.asin(true_size/(2*jupiter_radius))\n",
    "    # return the time corresponding to that angle of rotation\n",
    "    time = angle / AngularSpeed(jupiter_rotation * 60)\n",
    "    return time\n",
    "\n",
    "print(IdealExposure(.68))\n",
    "print(IdealExposure(0.5))\n",
    "print(IdealExposure(.39))\n",
    "print(IdealExposure(.34))\n",
    "\n",
    "jupiter_chordperXmin = ChordFromAngle(2 * AngularSpeed(jupiter_rotation * 60), jupiter_radius)\n",
    "rotation_Xmin_per = AngularSize(jupiter_chordperXmin,  jupiter_perihelion - earth_aphelion)\n",
    "rotation_Xmin_ap = AngularSize(jupiter_chordperXmin, jupiter_aphelion - earth_perihelion)\n",
    "print(rotation_Xmin_per)\n",
    "print(rotation_Xmin_ap)"
   ]
  },
  {
   "cell_type": "code",
   "execution_count": null,
   "metadata": {},
   "outputs": [],
   "source": []
  }
 ],
 "metadata": {
  "kernelspec": {
   "display_name": "Python 3",
   "language": "python",
   "name": "python3"
  },
  "language_info": {
   "codemirror_mode": {
    "name": "ipython",
    "version": 3
   },
   "file_extension": ".py",
   "mimetype": "text/x-python",
   "name": "python",
   "nbconvert_exporter": "python",
   "pygments_lexer": "ipython3",
   "version": "3.11.1"
  }
 },
 "nbformat": 4,
 "nbformat_minor": 2
}
